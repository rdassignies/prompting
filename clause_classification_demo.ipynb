{
  "nbformat": 4,
  "nbformat_minor": 0,
  "metadata": {
    "colab": {
      "provenance": [],
      "authorship_tag": "ABX9TyMrb6jKA95mXHpjctsd1I4u",
      "include_colab_link": true
    },
    "kernelspec": {
      "name": "python3",
      "display_name": "Python 3"
    },
    "language_info": {
      "name": "python"
    }
  },
  "cells": [
    {
      "cell_type": "markdown",
      "metadata": {
        "id": "view-in-github",
        "colab_type": "text"
      },
      "source": [
        "<a href=\"https://colab.research.google.com/github/rdassignies/prompting/blob/main/clause_classification_demo.ipynb\" target=\"_parent\"><img src=\"https://colab.research.google.com/assets/colab-badge.svg\" alt=\"Open In Colab\"/></a>"
      ]
    },
    {
      "cell_type": "code",
      "source": [
        "!pip install openai"
      ],
      "metadata": {
        "id": "ORRjbkfkVSdP"
      },
      "execution_count": null,
      "outputs": []
    },
    {
      "cell_type": "markdown",
      "source": [
        "# Prompt automatique :\n",
        "Le prompt est généré par un programme informatique.\n",
        "Comme une fusion publipostage dans un traitement de texte, il est possible de remplacer dynamiquement une portion du prompt (par ex. par une clause à évaluer) et de passer ce prompt complété à notre modèle pour qu'il puisse le traiter.\n",
        "\n",
        "## 1. Classifier une clause dynamiquement : pénale, non concurrence ou confidentialité\n",
        "\n",
        "Dans cet exemple, on fournit trois exemples de clause/qualification et on remplace le dernier par celui renseigné par l'utilisateur. Le modèle renvoie une qualification associée."
      ],
      "metadata": {
        "id": "_glWC8W8xiQX"
      }
    },
    {
      "cell_type": "code",
      "source": [
        "# Définition du texte avec un espace réservé pour l'insertion dynamique\n",
        "\n",
        "identification_clause = \"\"\"\n",
        "Titre: Identifier le type de clause dans un contrat\n",
        "\n",
        "Description: Vous allez lire des extraits de clauses contractuelles. Identifiez si chaque extrait est une clause de non-concurrence, une clause pénale ou une clause de confidentialité.\n",
        "\n",
        "Exemple 1:\n",
        "Texte: \"Le salarié s'engage à ne pas exercer, directement ou indirectement, pour son propre compte ou pour le compte d'un tiers, une activité concurrentielle à celle de l'entreprise, et ce, pendant une période de deux ans suivant la cessation de son contrat de travail.\"\n",
        "Réponse: Clause de non-concurrence\n",
        "\n",
        "Exemple 2:\n",
        "Texte: \"En cas de violation des termes de ce contrat, une pénalité de 10 000 euros sera appliquée pour chaque infraction constatée, sans préjudice de la possibilité de poursuivre en justice pour obtenir réparation des dommages supplémentaires.\"\n",
        "Réponse: Clause pénale\n",
        "\n",
        "Exemple 3:\n",
        "Texte: \"Les parties s'engagent à maintenir la confidentialité des informations échangées pendant la durée du contrat et après son expiration, et à ne pas divulguer ces informations à des tiers sans le consentement écrit préalable de l'autre partie.\"\n",
        "Réponse: Clause de confidentialité\n",
        "\n",
        "Question:\n",
        "Texte: \"{texte_dynamique}\"\n",
        "Réponse: ?\n",
        "\"\"\"\n",
        "\n",
        "# Insertion dynamique du texte dans le modèle\n",
        "texte_a_inserer = \"Le prestataire s'interdit de divulguer ou d'utiliser, pour son propre compte ou celui d'un tiers, les informations et documents obtenus dans le cadre de l'exécution du présent contrat, pendant une période de cinq ans après la fin de la collaboration.\"\n",
        "identificateur = identification_clause.format(texte_dynamique=texte_a_inserer)\n",
        "\n",
        "# Affichage du prompt complet\n",
        "print(prompt_complet)\n"
      ],
      "metadata": {
        "id": "C_dchfdheq5o"
      },
      "execution_count": null,
      "outputs": []
    },
    {
      "cell_type": "code",
      "source": [
        "import requests\n",
        "import openai\n",
        "openai.api_key = \"\"\n"
      ],
      "metadata": {
        "id": "z4qQl1HPjcGW"
      },
      "execution_count": 56,
      "outputs": []
    },
    {
      "cell_type": "markdown",
      "source": [
        "## Déterminer la licéité d'une clause de non concurrence\n",
        "Dans cet exemple, on doit déterminer si une clause de non concurrence est licite selon trois critères : limitation dans le temps, l'espace et la présence d'une contrepartie financière.\n",
        "Le modèle s'aide d'exemples fournis pour qualifier la clause renseigné par l'utiliateur."
      ],
      "metadata": {
        "id": "DvklK-9gyrHY"
      }
    },
    {
      "cell_type": "code",
      "source": [
        "response_qualification = openai.Completion.create(\n",
        "  model=\"gpt-3.5-turbo-instruct\",\n",
        "  prompt=identificateur\n",
        ")"
      ],
      "metadata": {
        "id": "uGIjGNBDjnjt"
      },
      "execution_count": 54,
      "outputs": []
    },
    {
      "cell_type": "code",
      "source": [
        "print(\"le modèle a déterminé que la clause était : \")\n",
        "response_qualification[\"choices\"][0]['text']\n"
      ],
      "metadata": {
        "colab": {
          "base_uri": "https://localhost:8080/",
          "height": 53
        },
        "id": "OrMUVvF0ntk7",
        "outputId": "fd9bcb48-1c89-45a2-aad2-699be68510f8"
      },
      "execution_count": 55,
      "outputs": [
        {
          "output_type": "stream",
          "name": "stdout",
          "text": [
            "le modèle a déterminé que la clause était : \n"
          ]
        },
        {
          "output_type": "execute_result",
          "data": {
            "text/plain": [
              "'\\nClause de confidentialité'"
            ],
            "application/vnd.google.colaboratory.intrinsic+json": {
              "type": "string"
            }
          },
          "metadata": {},
          "execution_count": 55
        }
      ]
    },
    {
      "cell_type": "code",
      "source": [
        "clause_legalite = (\n",
        "            \"#Titre : évaluation de la licéité d'une clause de non concurrence\"\n",
        "\n",
        "            \"#Instructions : en tant que juriste spécialisé en droit social, il faut évaluer la licéité d'une clause de non concurrence soumise par l'utilisateur\"\n",
        "            \"Une clause de non concurrence doit respecter trois critères : être limitée dans le temps, dans l'espace et avoir une contre-partie financière\"\n",
        "            \"Une liste d'exemples permettant de qualifier si une clause est licite ou illicite est fournie ci-dessous\"\n",
        "            \"Pour l'exemple fourni par l'utilisateur, il faut déterminer si la clause est licite ou illicite et fournir une explication détaillée et technique à l'appui de cette classification\"\n",
        "\n",
        "            \"#Clause de non-concurrence : Le salarié s'engage à ne pas travailler dans une entreprise concurrente \"\n",
        "            \"ou démarrer une activité similaire dans un rayon de 500 km et pour une durée de 6 ans suivant la cessation de son contrat.\\n\"\n",
        "            \"#label : Clause Illicite\\n\"\n",
        "            \"#Explication : Cette clause est illicite car elle ne respecte pas la limitation dans la durée. \"\n",
        "            \"Une durée de 6 ans est excessive et va au-delà de ce qui est généralement considéré comme raisonnable et légal.\\n\\n\"\n",
        "\n",
        "            \"#Clause de non-concurrence : Le salarié s'engage à ne pas exercer une activité concurrente dans le même secteur d'activité, \"\n",
        "            \"sans limitation géographique, pour une période de 2 ans après la fin de son contrat.\\n\"\n",
        "            \"#label : Clause Illicite\\n\"\n",
        "            \"#Explication : Bien que la durée soit raisonnable, cette clause est jugée illicite en raison de l'absence de limitation spatiale précise. \"\n",
        "            \"Une interdiction sans limitation géographique est trop restrictive et nuit à la liberté du salarié de trouver un nouvel emploi.\\n\\n\"\n",
        "\n",
        "\n",
        "            \"#Clause de non-concurrence : Le salarié ne doit pas travailler pour un concurrent dans un rayon de 100 km pendant une période de 2 ans, \"\n",
        "            \"sauf en cas de faute grave du salarié, auquel cas la clause ne s'appliquera pas.\\n\"\n",
        "            \"#Label : Clause Illicite\\n\"\n",
        "            \"#Explication : Cette clause est illicite car la contrepartie financière est conditionnée par la faute du salarié. \"\n",
        "            \"La contrepartie financière doit être versée sans condition pour que la clause soit valide.\\n\\n\"\n",
        "\n",
        "            \"#Clause de non-concurrence : Le salarié s'engage à ne pas travailler dans une entreprise concurrente ou démarrer une activité similaire \"\n",
        "            \"dans un rayon de 50 km pendant une durée de 1 an suivant la cessation de son contrat. L'employeur s'engage à verser une contrepartie financière \"\n",
        "            \"équivalente à 50% du dernier salaire brut mensuel du salarié pendant la durée de l'application de la clause.\\n\"\n",
        "             \"#Label: Clause Licite\\n\"\n",
        "            \"#Explication : Cette clause est licite car elle respecte les trois critères. Elle est limitée dans le temps (1 an) et l'espace (50 km), et une \"\n",
        "            \"contrepartie financière non conditionnelle est prévue, ce qui la rend conforme aux exigences légales.\\n\"\n",
        "\n",
        "            \"#Clause de non-concurrence : {texte_dynamique}\\n\"\n",
        "            \"#label : ?\"\n",
        "            )\n"
      ],
      "metadata": {
        "id": "mvZA9y9-srMw"
      },
      "execution_count": 45,
      "outputs": []
    },
    {
      "cell_type": "code",
      "source": [
        "clause_a_evaluer = \"Le salarié s'engage, à l'issue de son contrat de travail, à ne pas travailler directement ou indirectement, pour son propre compte ou pour le compte d'un tiers, dans une entreprise exerçant une activité concurrente et ce, pour une durée de 3 ans. Cette interdiction est applicable sur l'ensemble du territoire métropolitain français. En contrepartie de cette obligation, l'employeur versera au salarié une indemnité mensuelle équivalente à 30% de son dernier salaire brut mensuel pendant la durée de l'application de la clause.\"\n",
        "evaluateur = clause_legalite.format(texte_dynamique=clause_a_evaluer)\n"
      ],
      "metadata": {
        "id": "ACviFl1StUcO"
      },
      "execution_count": 46,
      "outputs": []
    },
    {
      "cell_type": "code",
      "source": [
        "response_liceite = openai.Completion.create(\n",
        "  model=\"gpt-3.5-turbo-instruct\",\n",
        "  prompt=evaluateur,\n",
        "  max_tokens=300,\n",
        "  temperature=0\n",
        "\n",
        ")"
      ],
      "metadata": {
        "id": "PfhhV5Mlt99F"
      },
      "execution_count": 47,
      "outputs": []
    },
    {
      "cell_type": "code",
      "source": [
        "print(\"le modèle a renvoyé le label et l'explication suivant associée à la clause à évaluer : \")\n",
        "response_liceite[\"choices\"][0]['text']\n"
      ],
      "metadata": {
        "colab": {
          "base_uri": "https://localhost:8080/",
          "height": 89
        },
        "id": "MFA7OZe6uKdo",
        "outputId": "e9aa2997-691a-4813-fd88-b4a528875242"
      },
      "execution_count": 48,
      "outputs": [
        {
          "output_type": "stream",
          "name": "stdout",
          "text": [
            "le modèle a renvoyé le label et l'explication suivant associée à la clause à évaluer : \n"
          ]
        },
        {
          "output_type": "execute_result",
          "data": {
            "text/plain": [
              "\"\\n#Label: Clause Licite\\n#Explication : Cette clause respecte les trois critères de licéité. Elle est limitée dans le temps (3 ans), dans l'espace (ensemble du territoire métropolitain français) et prévoit une contrepartie financière non conditionnelle (indemnité mensuelle équivalente à 30% du dernier salaire brut mensuel). Elle est donc conforme aux exigences légales.\""
            ],
            "application/vnd.google.colaboratory.intrinsic+json": {
              "type": "string"
            }
          },
          "metadata": {},
          "execution_count": 48
        }
      ]
    }
  ]
}